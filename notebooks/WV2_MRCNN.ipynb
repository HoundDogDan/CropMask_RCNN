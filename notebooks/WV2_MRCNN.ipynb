{
 "cells": [
  {
   "cell_type": "code",
   "execution_count": 1,
   "metadata": {},
   "outputs": [],
   "source": [
    "import os\n",
    "import sys\n",
    "import random\n",
    "import math\n",
    "import numpy as np\n",
    "import skimage.io\n",
    "import matplotlib\n",
    "import matplotlib.pyplot as plt\n",
    "%matplotlib inline "
   ]
  },
  {
   "cell_type": "code",
   "execution_count": null,
   "metadata": {},
   "outputs": [],
   "source": [
    "# Import Mask RCNN\n",
    "from mrcnn import utils\n",
    "import mrcnn.model as modellib\n",
    "from mrcnn import visualize\n",
    "from mrcnn.config import Config\n",
    "from mrcnn.model import log"
   ]
  },
  {
   "cell_type": "code",
   "execution_count": 2,
   "metadata": {},
   "outputs": [],
   "source": [
    "# Root directory of the project\n",
    "ROOT_DIR = os.path.abspath(\"../data/raw/stephtest/\")\n",
    "\n",
    "# Directory to save logs and trained model\n",
    "MODEL_DIR = os.path.join(ROOT_DIR, \"wv2/models\")\n",
    "\n",
    "# # Local path to trained weights file\n",
    "# COCO_MODEL_PATH = os.path.join(MODEL_DIR, \"mask_rcnn_coco.h5\")\n",
    "# # Download COCO trained weights from Releases if needed\n",
    "# if not os.path.exists(COCO_MODEL_PATH):\n",
    "#     utils.download_trained_weights(COCO_MODEL_PATH)\n",
    "EIGHTCHANNEL_DIR = os.path.join(ROOT_DIR, 'wv2/eightchannels')\n",
    "TRAIN_DIR = os.path.join(ROOT_DIR, 'wv2/images')\n",
    "VALIDATION_DIR = os.path.join(ROOT_DIR, 'wv2/masks')\n",
    "TEST_DIR = os.path.join(ROOT_DIR, 'wv2/test')\n",
    "try:\n",
    "    os.mkdir(EIGHTCHANNEL_DIR)\n",
    "    os.mkdir(MODEL_DIR)\n",
    "    os.mkdir(TRAIN_DIR)\n",
    "    os.mkdir(VALIDATION_DIR)\n",
    "    os.mkdir(TEST_DIR)\n",
    "except:\n",
    "    FileExistsError"
   ]
  },
  {
   "cell_type": "code",
   "execution_count": 5,
   "metadata": {},
   "outputs": [
    {
     "name": "stdout",
     "output_type": "stream",
     "text": [
      "False\n",
      "True\n"
     ]
    }
   ],
   "source": [
    "def load_merge_wv2(image_id):\n",
    "    \"\"\"Load the specified wv2 os/gs image pairs and return a [H,W,8] \n",
    "    Numpy array. Channels are ordered [B, G, R, NIR, B, G, R, NIR], OS \n",
    "    first.\n",
    "    \"\"\"\n",
    "    # Load image\n",
    "    os_path = IMAGERY_DIR+'/'+image_id+'_MS_OS.tif'\n",
    "    gs_path = IMAGERY_DIR+'/'+image_id+'_MS_GS.tif'\n",
    "    os_image = skimage.io.imread(os_path)\n",
    "    gs_image = skimage.io.imread(gs_path)\n",
    "    # If has more than 4 bands, select correct bands \n",
    "    # will need to provide image config in future\n",
    "    # to programmaticaly use correct band mappings\n",
    "    if os_image.shape[-1] != 4:\n",
    "        os_image = np.dstack((os_image[:,:,1:3],os_image[:,:,4],os_image[:,:,6]))\n",
    "    if gs_image.shape[-1] != 4:\n",
    "        gs_image = np.dstack((gs_image[:,:,1:3],gs_image[:,:,4],gs_image[:,:,6]))\n",
    "    stacked_image = np.dstack((os_image, gs_image))\n",
    "    stacked_image_path = EIGHTCHANNEL_DIR +'/'+ image_id + '_OSGS_ms.tif'\n",
    "    return (stacked_image_path, stacked_image)\n",
    "\n",
    "IMAGERY_DIR = os.path.join(ROOT_DIR, 'projectedtiffs/')\n",
    "GROUNDTRUTH_DIR = os.path.join(ROOT_DIR, 'rasterized_wv2_labels')\n",
    "\n",
    "# all files, including ones we don't care about\n",
    "file_ids_all = next(os.walk(IMAGERY_DIR))[2]\n",
    "# all multispectral on and off season tifs\n",
    "image_ids_all = [image_id for image_id in file_ids_all if 'MS' in image_id]\n",
    "#check for duplicates\n",
    "print(len(image_ids_all) != len(set(image_ids_all)))\n",
    "\n",
    "image_ids_gs = [image_id for image_id in image_ids_all if 'GS' in image_id]\n",
    "image_ids_os = [image_id for image_id in image_ids_all if 'OS' in image_id]\n",
    "\n",
    "#check for equality\n",
    "print(len(image_ids_os) == len(image_ids_gs))\n",
    "\n",
    "image_ids_short = [image_id[0:2] for image_id in image_ids_gs]\n",
    "image_ids_short\n",
    "\n",
    "stacked_dict = {}\n",
    "\n",
    "for imid in image_ids_short:\n",
    "    \n",
    "    path, arr = load_merge_wv2(imid)\n",
    "    stacked_dict.update({path:arr})\n",
    "    \n",
    "# trying to save 8 channel numpy array with GS, OS info. this is what matterport expects\n",
    "# BUT in mold_inputs() in https://github.com/matterport/Mask_RCNN/blob/master/mrcnn/model.py\n",
    "# indicates that the input png/array must only have three channels...\n",
    "# We could change mold_inputs to not have this requirement and also change\n",
    "#         input_image = KL.Input(\n",
    "#            shape=[None, None, 3], name=\"input_image\")\n",
    "# on line 1841 of mrcnn/model.py but not sure if this is all the changes\n",
    "# that would be required\n",
    "# this issue indicates fix is simpler: https://github.com/matterport/Mask_RCNN/issues/314\n",
    "\n",
    "for key, val in stacked_dict.items():\n",
    "    skimage.io.imsave(key,val,plugin='tifffile')"
   ]
  },
  {
   "cell_type": "code",
   "execution_count": 6,
   "metadata": {},
   "outputs": [
    {
     "name": "stdout",
     "output_type": "stream",
     "text": [
      "7\n",
      "1\n"
     ]
    }
   ],
   "source": [
    "import random\n",
    "import shutil\n",
    "random.seed(42)\n",
    "\n",
    "def train_test_split(imagerydir, traindir, testdir, kprop):\n",
    "    \"\"\"Splits tifs into train and test dir.\"\"\"\n",
    "    \n",
    "    image_list = next(os.walk(imagerydir))[2]\n",
    "    k = round(kprop*len(image_list))\n",
    "    test_list = random.sample(image_list,k)\n",
    "    for test in test_list:\n",
    "        shutil.copyfile(os.path.join(imagerydir,test),os.path.join(testdir,test))\n",
    "    train_list = list(set(next(os.walk(imagerydir))[2]) - set(test_list))\n",
    "    for train in train_list:\n",
    "        shutil.copyfile(os.path.join(imagerydir,train),os.path.join(traindir,train))\n",
    "    print(len(train_list))\n",
    "    print(len(test_list))\n",
    "    \n",
    "train_test_split(EIGHTCHANNEL_DIR,TRAIN_DIR, TEST_DIR, .1)\n",
    "\n",
    "groundtruth_list = next(os.walk(GROUNDTRUTH_DIR))[2]\n",
    "for file in groundtruth_list:\n",
    "    shutil.copyfile(os.path.join(GROUNDTRUTH_DIR,file),os.path.join(VALIDATION_DIR,file))"
   ]
  }
 ],
 "metadata": {
  "kernelspec": {
   "display_name": "Python [conda env:anaconda3]",
   "language": "python",
   "name": "conda-env-anaconda3-py"
  },
  "language_info": {
   "codemirror_mode": {
    "name": "ipython",
    "version": 3
   },
   "file_extension": ".py",
   "mimetype": "text/x-python",
   "name": "python",
   "nbconvert_exporter": "python",
   "pygments_lexer": "ipython3",
   "version": "3.6.4"
  }
 },
 "nbformat": 4,
 "nbformat_minor": 2
}
