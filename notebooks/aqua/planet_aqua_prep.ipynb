{
 "cells": [
  {
   "cell_type": "markdown",
   "metadata": {},
   "source": [
    "# Data and Project Prep for Aquaculture Mask R-CNN\n",
    "\n",
    "This notebook contains code related to processing and organizing Planet images (PlanetScope 3B Analytic SR products) and their associated object annotations for use by a Mask R-CNN model. \n",
    "\n",
    "The project data is organized within the `data` directory as follows:\n",
    "  + `aqua`: root directory for aquaculture data\n",
    "      + `planet`: full PlanetScope 3B Analytic SR scenes downloaded from Planet. \n",
    "      + `gridded_planet`: image chips (256x256) created from the raw PlanetScope scenes in `planet` and a JSON file with corresponding object annotations\n",
    "      + `train`: subset of image chips for use in model training\n",
    "          + `image`: raw GeoTiff image chip from `gridded_planet`\n",
    "          + `masks`: instance-specific GeoTiff masks for each object\n",
    "      + `test`: subset of image chips for use in model testing\n",
    "          + `image`: raw GeoTiff image chip from `gridded_planet`\n",
    "          + `masks`: instance-specific GeoTiff masks for each object\n",
    "\n",
    "## Setup"
   ]
  },
  {
   "cell_type": "markdown",
   "metadata": {},
   "source": [
    "Load packages:"
   ]
  },
  {
   "cell_type": "code",
   "execution_count": 26,
   "metadata": {},
   "outputs": [
    {
     "data": {
      "text/plain": [
       "0"
      ]
     },
     "execution_count": 26,
     "metadata": {},
     "output_type": "execute_result"
    }
   ],
   "source": [
    "cmd = 'pip install pandas'\n",
    "os.system(cmd)"
   ]
  },
  {
   "cell_type": "code",
   "execution_count": 1,
   "metadata": {},
   "outputs": [],
   "source": [
    "import os\n",
    "import sys\n",
    "import pathlib\n",
    "import math\n",
    "import random\n",
    "import rasterio # requires gdal to be installed from conda forge w/ \"conda install -c conda-forge gdal\"\n",
    "import numpy as np\n",
    "import pandas as pd\n",
    "import skimage.io as skio\n",
    "import matplotlib\n",
    "import matplotlib.pyplot as plt\n",
    "import copy\n",
    "import skimage.draw\n",
    "from skimage import measure\n",
    "%matplotlib inline"
   ]
  },
  {
   "cell_type": "markdown",
   "metadata": {},
   "source": [
    "Setup directories:"
   ]
  },
  {
   "cell_type": "code",
   "execution_count": 2,
   "metadata": {},
   "outputs": [],
   "source": [
    "# # Root directory of the project\n",
    "# ROOT_DIR = os.path.abspath(\"/home/rave/tana-crunch/waves/deepimagery/data/raw/wv2/\")\n",
    "ROOT_DIR = os.path.abspath(\"/Users/Tyler-SFG/Desktop/GitHub/CropMask_RCNN/data/aqua/\")\n",
    "\n",
    "# Make main imagery directories\n",
    "TRAIN_DIR = os.path.join(ROOT_DIR, 'train')\n",
    "TEST_DIR = os.path.join(ROOT_DIR, 'test')\n",
    "SCENE_DIR = os.path.join(ROOT_DIR, 'planet')\n",
    "PLANET_DIR = os.path.join(ROOT_DIR, 'gridded_planet')\n",
    "\n",
    "# list of directories to loop over\n",
    "dirs = [TRAIN_DIR, TEST_DIR, SCENE_DIR, PLANET_DIR]\n",
    "\n",
    "# Make directory and subdirectories\n",
    "for d in dirs:\n",
    "    pathlib.Path(d).mkdir(parents=True, exist_ok=True)\n",
    "\n",
    "# Change working directory to aqua project directory\n",
    "os.chdir(ROOT_DIR)"
   ]
  },
  {
   "cell_type": "markdown",
   "metadata": {},
   "source": [
    "## Image Processing\n",
    "\n",
    "This project relies on Planet images that have been annotated with the locations of aquaculture farms for the training and testing of a Mask R-CNN model. These annotations have been generated in two ways:\n",
    "\n",
    "1. Fully annotated Planet scenes - annotations stored as binary bands of full Planet scenes stored in `planet` with filenames ending with `_labels.tif` \n",
    "\n",
    "2. JSON annotations - annotations created for previsouly created image chips (256x256 pixels) and recorded in `json` files stored within individual scene folders in `gridded_planet`\n",
    "\n",
    "For both annotation methods, image chips and object instance masks are created and stored in the `train`. Each image chip will be stored in its own directory that contains two subdirectories: `image_id/image` containing the raw GeoTiff image, and `image_id/masks` containing the image's object instance masks. \n",
    "\n",
    "At the time of model training, the `train` directory will then be sampled and a subset placed in `test`. "
   ]
  },
  {
   "cell_type": "markdown",
   "metadata": {},
   "source": [
    "### Fully Annotated Planet Scenes\n",
    "\n",
    "For each labeled Planet scene in `planet`, the following function will create a series of 256x256 image chips and instance masks and place them in the `train` directory."
   ]
  },
  {
   "cell_type": "code",
   "execution_count": 102,
   "metadata": {},
   "outputs": [
    {
     "name": "stdout",
     "output_type": "stream",
     "text": [
      "filename: 20180409_014042_1015_3B_AnalyticMS_SR_labels.tif\n",
      "image name: 20180409_014042_1015\n"
     ]
    },
    {
     "name": "stderr",
     "output_type": "stream",
     "text": [
      "/Users/Tyler-SFG/anaconda/envs/maskrcnn/lib/python3.6/site-packages/ipykernel_launcher.py:104: FutureWarning: The value of this property will change in version 1.0. Please see https://github.com/mapbox/rasterio/issues/86 for details.\n",
      "/Users/Tyler-SFG/anaconda/envs/maskrcnn/lib/python3.6/site-packages/rasterio/__init__.py:160: FutureWarning: GDAL-style transforms are deprecated and will not be supported in Rasterio 1.0.\n",
      "  transform = guard_transform(transform)\n"
     ]
    },
    {
     "name": "stdout",
     "output_type": "stream",
     "text": [
      "filename: 20180410_020422_0f31_3B_AnalyticMS_SR_labels.tif\n",
      "image name: 20180410_020422_0f31\n"
     ]
    }
   ],
   "source": [
    "# Define a function to create image chips with masks of every GeoTiff file in a directory\n",
    "def prep_labeled_scenes(tiff_directory, train_directory):\n",
    "    \n",
    "    # Get all GeoTiff filnames in specified directory\n",
    "    files = np.array(os.listdir(tiff_directory))\n",
    "    tiffs = pd.Series(files).str.contains('_labels.tif')\n",
    "    files = files[tiffs] \n",
    "    \n",
    "    # Loop over files\n",
    "    for filename in files:\n",
    "        \n",
    "        # Get image name to use for creating directory\n",
    "        image_name = filename.split(\"_\")[0:3]\n",
    "        image_name = \"%s_%s_%s\" % (image_name[0], image_name[1], image_name[2])\n",
    "        \n",
    "        # Image directory and subdirectories\n",
    "        image_dir = train_directory + '/' + image_name + '/'        \n",
    "        \n",
    "        # Print filenames\n",
    "        print('filename: ' + filename + '\\n' + 'image name: ' + image_name)\n",
    "        \n",
    "        # Make directories to store raw image chips\n",
    "#         pathlib.Path(image_dir).mkdir(parents=True, exist_ok=True)\n",
    "\n",
    "        # Iterate over image blocks - which are 256x256 - and save new GeoTiffs\n",
    "        with rasterio.open(os.path.join(tiff_directory, filename)) as src:\n",
    "            \n",
    "            # Get block dimensions of src\n",
    "            for ji, window in src.block_windows(1):\n",
    "                \n",
    "                # read B,G,R,NIR band\n",
    "                r = src.read((3,2,1,4), window=window)\n",
    "                \n",
    "                # Skip image if missing data\n",
    "                if 0 in r:\n",
    "                    continue\n",
    "           \n",
    "                else:\n",
    "                    \n",
    "                    # Create chip id\n",
    "                    chip_name = image_name + '_' + str(ji[0]) + '_' + str(ji[1])                    \n",
    "                    \n",
    "                    # Create directory for image chip and subdirectories for image and labels\n",
    "                    chip_dir = train_directory + '/' + chip_name + '/'                    \n",
    "                    img_dir = chip_dir + '/image/'\n",
    "                    mask_dir = chip_dir + '/class_masks/'\n",
    "                    \n",
    "                    # list of directories to map over\n",
    "                    dirs = [chip_dir, img_dir, mask_dir]\n",
    "                    \n",
    "                    # Make chip directory and subdirectories\n",
    "                    for d in dirs:\n",
    "                        pathlib.Path(d).mkdir(parents=True, exist_ok=True)\n",
    "                    \n",
    "                    # Open a new GeoTiff data file in which to save the image chip\n",
    "                    with rasterio.open((img_dir + chip_name + '.tif'), 'w', driver='GTiff',\n",
    "                               height=r.shape[1], width=r.shape[2], count=4,\n",
    "                               dtype=rasterio.uint16, crs=src.crs, \n",
    "                               transform=src.transform) as new_img:\n",
    "        \n",
    "                        # Write the rescaled image to the new GeoTiff\n",
    "                        new_img.write(r)\n",
    "                \n",
    "                \"\"\"Load and save mask as separate tif file(s), one for each class\"\"\"\n",
    "                # Count number of mask bands (bands - 4)\n",
    "                masks = src.count - 4\n",
    "                \n",
    "                if masks < 2:\n",
    "                    # read mask\n",
    "                    m = src.read(5, window=window)\n",
    "                    \n",
    "                    # Open a new Tiff data file in which to save the image mask (use class 1 for now)                    \n",
    "                    with rasterio.open((mask_dir + chip_name + '_line_mask.tif'), 'w', driver='GTiff',\n",
    "                                       height=m.shape[0], width=m.shape[1], count=1,\n",
    "                                       dtype=rasterio.uint16, crs=src.crs, \n",
    "                                       transform=src.transform) as new_img:\n",
    "                        # Write the mask to the new GeoTiff            \n",
    "                        new_img.write(m, 1)\n",
    "                \n",
    "                else:\n",
    "                                        \n",
    "                    for a in (1, masks):\n",
    "                        \n",
    "                        # read mask\n",
    "                        m = src.read(4 + a, window=window)\n",
    "                        \n",
    "                        # set type of aquaculture class\n",
    "                        if a == 1: \n",
    "                            types = 'line'\n",
    "                        else: \n",
    "                            types = 'raft'\n",
    "                    \n",
    "                        # Open a new Tiff data file in which to save the image mask. Label with class number                    \n",
    "                        with rasterio.open((mask_dir + chip_name + '_' + types + '_mask.tif'), 'w', driver='GTiff',\n",
    "                                           height=m.shape[0], width=m.shape[1], count=1,\n",
    "                                           dtype=rasterio.uint16, crs=src.crs, \n",
    "                                           transform=src.transform) as new_img:\n",
    "                            # Write the mask to the new GeoTiff            \n",
    "                            new_img.write(m, 1)\n",
    "                        \n",
    "#                         if(a == 2): print('saving second mask')\n",
    "\n",
    "# Run function on complete labeled Planet scenes                            \n",
    "prep_labeled_scenes(SCENE_DIR, TRAIN_DIR)"
   ]
  },
  {
   "cell_type": "markdown",
   "metadata": {},
   "source": [
    "### Annotated Image Chips\n",
    "\n",
    "For the Planet scenes that were annotated after being segmented into image chips, the same process of creating directories for each image chip and mask in `train` is performed. Annotations for all image chips created from a single Planet scene are recorded in a JSON file stored in that scenes folder within `gridded_planet`. "
   ]
  },
  {
   "cell_type": "code",
   "execution_count": 132,
   "metadata": {
    "scrolled": false
   },
   "outputs": [
    {
     "name": "stdout",
     "output_type": "stream",
     "text": [
      "False\n",
      "20180410_020421_0f31_1_2\n",
      "False\n",
      "20180410_020421_0f31_1_3\n",
      "False\n",
      "20180410_020421_0f31_1_4\n",
      "False\n",
      "20180410_020421_0f31_1_5\n",
      "False\n",
      "20180410_020421_0f31_2_2\n",
      "False\n",
      "20180410_020421_0f31_2_3\n",
      "False\n",
      "20180410_020421_0f31_2_4\n",
      "False\n",
      "20180410_020421_0f31_2_5\n",
      "False\n",
      "20180410_020421_0f31_2_6\n",
      "False\n",
      "20180410_020421_0f31_2_7\n",
      "False\n",
      "20180410_020421_0f31_3_2\n",
      "False\n",
      "20180410_020421_0f31_3_3\n",
      "False\n",
      "20180410_020421_0f31_3_4\n"
     ]
    },
    {
     "name": "stderr",
     "output_type": "stream",
     "text": [
      "/Users/Tyler-SFG/anaconda/envs/maskrcnn/lib/python3.6/site-packages/ipykernel_launcher.py:107: FutureWarning: The value of this property will change in version 1.0. Please see https://github.com/mapbox/rasterio/issues/86 for details.\n",
      "/Users/Tyler-SFG/anaconda/envs/maskrcnn/lib/python3.6/site-packages/rasterio/__init__.py:160: FutureWarning: GDAL-style transforms are deprecated and will not be supported in Rasterio 1.0.\n",
      "  transform = guard_transform(transform)\n"
     ]
    },
    {
     "ename": "KeyError",
     "evalue": "'class'",
     "output_type": "error",
     "traceback": [
      "\u001b[0;31m---------------------------------------------------------------------------\u001b[0m",
      "\u001b[0;31mKeyError\u001b[0m                                  Traceback (most recent call last)",
      "\u001b[0;32m<ipython-input-132-3785459de9f1>\u001b[0m in \u001b[0;36m<module>\u001b[0;34m()\u001b[0m\n\u001b[1;32m    105\u001b[0m \u001b[0;34m\u001b[0m\u001b[0m\n\u001b[1;32m    106\u001b[0m \u001b[0;31m# Run function\u001b[0m\u001b[0;34m\u001b[0m\u001b[0;34m\u001b[0m\u001b[0m\n\u001b[0;32m--> 107\u001b[0;31m \u001b[0mprep_labeled_chips\u001b[0m\u001b[0;34m(\u001b[0m\u001b[0mPLANET_DIR\u001b[0m\u001b[0;34m)\u001b[0m\u001b[0;34m\u001b[0m\u001b[0m\n\u001b[0m",
      "\u001b[0;32m<ipython-input-132-3785459de9f1>\u001b[0m in \u001b[0;36mprep_labeled_chips\u001b[0;34m(chip_dir)\u001b[0m\n\u001b[1;32m     83\u001b[0m \u001b[0;34m\u001b[0m\u001b[0m\n\u001b[1;32m     84\u001b[0m                 \u001b[0;31m# Pull out polygons of that type\u001b[0m\u001b[0;34m\u001b[0m\u001b[0;34m\u001b[0m\u001b[0m\n\u001b[0;32m---> 85\u001b[0;31m                 \u001b[0mpolygons\u001b[0m \u001b[0;34m=\u001b[0m \u001b[0;34m[\u001b[0m\u001b[0mr\u001b[0m\u001b[0;34m[\u001b[0m\u001b[0;34m'shape_attributes'\u001b[0m\u001b[0;34m]\u001b[0m \u001b[0;32mfor\u001b[0m \u001b[0mr\u001b[0m \u001b[0;32min\u001b[0m \u001b[0ma\u001b[0m\u001b[0;34m[\u001b[0m\u001b[0;34m'regions'\u001b[0m\u001b[0;34m]\u001b[0m \u001b[0;32mif\u001b[0m \u001b[0mr\u001b[0m\u001b[0;34m[\u001b[0m\u001b[0;34m'region_attributes'\u001b[0m\u001b[0;34m]\u001b[0m\u001b[0;34m[\u001b[0m\u001b[0;34m'class'\u001b[0m\u001b[0;34m]\u001b[0m \u001b[0;34m==\u001b[0m \u001b[0mt\u001b[0m\u001b[0;34m]\u001b[0m\u001b[0;34m\u001b[0m\u001b[0m\n\u001b[0m\u001b[1;32m     86\u001b[0m \u001b[0;34m\u001b[0m\u001b[0m\n\u001b[1;32m     87\u001b[0m                 \u001b[0;31m# Draw mask using height and width of Geotiff\u001b[0m\u001b[0;34m\u001b[0m\u001b[0;34m\u001b[0m\u001b[0m\n",
      "\u001b[0;32m<ipython-input-132-3785459de9f1>\u001b[0m in \u001b[0;36m<listcomp>\u001b[0;34m(.0)\u001b[0m\n\u001b[1;32m     83\u001b[0m \u001b[0;34m\u001b[0m\u001b[0m\n\u001b[1;32m     84\u001b[0m                 \u001b[0;31m# Pull out polygons of that type\u001b[0m\u001b[0;34m\u001b[0m\u001b[0;34m\u001b[0m\u001b[0m\n\u001b[0;32m---> 85\u001b[0;31m                 \u001b[0mpolygons\u001b[0m \u001b[0;34m=\u001b[0m \u001b[0;34m[\u001b[0m\u001b[0mr\u001b[0m\u001b[0;34m[\u001b[0m\u001b[0;34m'shape_attributes'\u001b[0m\u001b[0;34m]\u001b[0m \u001b[0;32mfor\u001b[0m \u001b[0mr\u001b[0m \u001b[0;32min\u001b[0m \u001b[0ma\u001b[0m\u001b[0;34m[\u001b[0m\u001b[0;34m'regions'\u001b[0m\u001b[0;34m]\u001b[0m \u001b[0;32mif\u001b[0m \u001b[0mr\u001b[0m\u001b[0;34m[\u001b[0m\u001b[0;34m'region_attributes'\u001b[0m\u001b[0;34m]\u001b[0m\u001b[0;34m[\u001b[0m\u001b[0;34m'class'\u001b[0m\u001b[0;34m]\u001b[0m \u001b[0;34m==\u001b[0m \u001b[0mt\u001b[0m\u001b[0;34m]\u001b[0m\u001b[0;34m\u001b[0m\u001b[0m\n\u001b[0m\u001b[1;32m     86\u001b[0m \u001b[0;34m\u001b[0m\u001b[0m\n\u001b[1;32m     87\u001b[0m                 \u001b[0;31m# Draw mask using height and width of Geotiff\u001b[0m\u001b[0;34m\u001b[0m\u001b[0;34m\u001b[0m\u001b[0m\n",
      "\u001b[0;31mKeyError\u001b[0m: 'class'"
     ]
    }
   ],
   "source": [
    "import json\n",
    "\n",
    "def prep_labeled_chips(chip_dir):\n",
    "    \n",
    "    \"\"\"Takes a directory of Planet image chips and a JSON file with object annotations and\n",
    "    creates a 'masks' directory containing object instance masks\"\"\"\n",
    "    \n",
    "    # Find all gridded planet scenes\n",
    "    scenes = np.array(os.listdir(chip_dir))\n",
    "    \n",
    "    # Find all files in scene directories\n",
    "    scene_files = [os.listdir(os.path.join(chip_dir, scene)) for scene in scenes]\n",
    "    \n",
    "    # Flatten list of lists\n",
    "    scene_files = sum(scene_files, [])\n",
    "    \n",
    "    # Pull out label files\n",
    "    scene_labels = [file for file in scene_files if \"_labels_\" in file]\n",
    "    \n",
    "    # Loop over annotated scenes\n",
    "    for label in scene_labels:\n",
    "        \n",
    "        # Pull out scene names of labels\n",
    "        scene = label.split(\"_labels\")[0]\n",
    "    \n",
    "        # Set directory for label\n",
    "        scene_dir = os.path.join(chip_dir, scene)\n",
    "        \n",
    "        # Create \"class_masks\" directory to store chip masks\n",
    "        masks_dir = os.path.join(scene_dir, 'class_masks')\n",
    "        pathlib.Path(masks_dir).mkdir(parents=True, exist_ok=True)\n",
    "        \n",
    "        \"\"\"Code for processing VGG annotations from Matterport balloon color splash sample\"\"\"\n",
    "        # Load annotations\n",
    "        # VGG Image Annotator saves each image in the form:\n",
    "        # { 'filename': '28503151_5b5b7ec140_b.jpg',\n",
    "        #   'regions': {\n",
    "        #       '0': {\n",
    "        #           'region_attributes': {},\n",
    "        #           'shape_attributes': {\n",
    "        #               'all_points_x': [...],\n",
    "        #               'all_points_y': [...],\n",
    "        #               'name': 'polygon'}},\n",
    "        #       ... more regions ...\n",
    "        #   },\n",
    "        #   'size': 100202\n",
    "        # }        \n",
    "        \n",
    "        # We mostly care about the x and y coordinates of each region\n",
    "        annotations = json.load(open(os.path.join(scene_dir, label)))\n",
    "        annotations = list(annotations.values())  # don't need the dict keys\n",
    "\n",
    "        # The VIA tool saves images in the JSON even if they don't have any\n",
    "        # annotations. Skip unannotated images.\n",
    "        annotations = [a for a in annotations if a['regions']]\n",
    "        # Subset for testing\n",
    "        annotations = annotations[0:13]\n",
    "    \n",
    "        for a in annotations:\n",
    "            # Get the x, y coordinaets of points of the polygons that make up\n",
    "            # the outline of each object instance. There are stores in the\n",
    "            # shape_attributes (see json format above)  \n",
    "\n",
    "            # Get the aquaculture class of each polygon\n",
    "            polygon_types = [r['region_attributes'] for r in a['regions']]            \n",
    "\n",
    "            # Get unique aquaculture classes in annotations\n",
    "            types = set(val for dic in polygon_types for val in dic.values())\n",
    "            \n",
    "            # Get chip id for annotation\n",
    "            chip = a['filename'].split('.png')[0]\n",
    "            print(chip)            \n",
    "            \n",
    "            # Read geotiff for chip\n",
    "            gtiff = scene_dir +  '/chips/' + chip + '.tif'\n",
    "            src = rasterio.open(gtiff)\n",
    "\n",
    "            for t in types:\n",
    "\n",
    "                # Pull out polygons of that type\n",
    "                # TODO: Loop breaking because can't find 'class' key for an annotation\n",
    "\n",
    "                polygons = [r['shape_attributes'] for r in a['regions'] if r['region_attributes']['class'] == t]\n",
    "                \n",
    "                # Draw mask using height and width of Geotiff\n",
    "                mask = np.zeros([src.height, src.width], dtype=np.uint8)\n",
    "\n",
    "                for p in polygons:\n",
    "\n",
    "                    # Get indexes of pixels inside the polygon and set them to 1\n",
    "                    rr, cc = skimage.draw.polygon(p['all_points_y'], p['all_points_x'])                    \n",
    "                    mask[rr, cc] = 1            \n",
    "                \n",
    "                # Open a new GeoTiff data file in which to save the image chip\n",
    "                with rasterio.open((masks_dir + '/' + chip + '_' + str(t) + '_mask.tif'), 'w', driver='GTiff',\n",
    "                           height=src.shape[0], width=src.shape[1], count=1,\n",
    "                           dtype=rasterio.ubyte, crs=src.crs, \n",
    "                           transform=src.transform) as new_img:\n",
    "\n",
    "                    # Write the rescaled image to the new GeoTiff\n",
    "                    new_img.write(mask.astype('uint8'),1)\n",
    "                                    \n",
    "\n",
    "# Run function                    \n",
    "prep_labeled_chips(PLANET_DIR)"
   ]
  },
  {
   "cell_type": "code",
   "execution_count": 9,
   "metadata": {},
   "outputs": [
    {
     "name": "stdout",
     "output_type": "stream",
     "text": [
      "Help on built-in function listdir in module posix:\n",
      "\n",
      "listdir(path=None)\n",
      "    Return a list containing the names of the files in the directory.\n",
      "    \n",
      "    path can be specified as either str or bytes.  If path is bytes,\n",
      "      the filenames returned will also be bytes; in all other circumstances\n",
      "      the filenames returned will be str.\n",
      "    If path is None, uses the path='.'.\n",
      "    On some platforms, path may also be specified as an open file descriptor;\\\n",
      "      the file descriptor must refer to a directory.\n",
      "      If this functionality is unavailable, using it raises NotImplementedError.\n",
      "    \n",
      "    The list is in arbitrary order.  It does not include the special\n",
      "    entries '.' and '..' even if they are present in the directory.\n",
      "\n"
     ]
    }
   ],
   "source": [
    "help(os.listdir)"
   ]
  },
  {
   "cell_type": "code",
   "execution_count": null,
   "metadata": {},
   "outputs": [],
   "source": []
  }
 ],
 "metadata": {
  "kernelspec": {
   "display_name": "Python 3",
   "language": "python",
   "name": "python3"
  },
  "language_info": {
   "codemirror_mode": {
    "name": "ipython",
    "version": 3
   },
   "file_extension": ".py",
   "mimetype": "text/x-python",
   "name": "python",
   "nbconvert_exporter": "python",
   "pygments_lexer": "ipython3",
   "version": "3.6.5"
  }
 },
 "nbformat": 4,
 "nbformat_minor": 2
}
